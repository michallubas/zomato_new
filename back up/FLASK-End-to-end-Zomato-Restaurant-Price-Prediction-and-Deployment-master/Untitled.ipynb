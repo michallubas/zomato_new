{
 "cells": [
  {
   "cell_type": "code",
   "execution_count": 37,
   "metadata": {},
   "outputs": [],
   "source": [
    "#IMPORT THE NECESSARY LIBRARIES\n",
    "\n",
    "import pandas as pd\n",
    "import numpy as np\n",
    "import matplotlib.pyplot as plt\n",
    "import plotly.graph_objs as go\n",
    "import plotly.offline as py\n",
    "import seaborn as sns\n",
    "\n",
    "import matplotlib.ticker as mtick\n",
    "plt.style.use('fivethirtyeight')\n",
    "from sklearn.linear_model import LogisticRegression\n",
    "from sklearn.linear_model import LinearRegression\n",
    "from sklearn.ensemble import  ExtraTreesRegressor\n",
    "from sklearn.model_selection import train_test_split\n",
    "\n",
    "import warnings\n",
    "warnings.filterwarnings('ignore')\n",
    "%matplotlib inline"
   ]
  },
  {
   "cell_type": "code",
   "execution_count": 38,
   "metadata": {},
   "outputs": [
    {
     "name": "stdout",
     "output_type": "stream",
     "text": [
      "Requirement already satisfied: plotly in c:\\users\\user\\anaconda3\\lib\\site-packages (4.13.0)\n",
      "Requirement already satisfied: retrying>=1.3.3 in c:\\users\\user\\anaconda3\\lib\\site-packages (from plotly) (1.3.3)\n",
      "Requirement already satisfied: six in c:\\users\\user\\anaconda3\\lib\\site-packages (from plotly) (1.12.0)\n",
      "Note: you may need to restart the kernel to use updated packages.\n"
     ]
    }
   ],
   "source": [
    "pip install plotly"
   ]
  },
  {
   "cell_type": "code",
   "execution_count": 39,
   "metadata": {},
   "outputs": [],
   "source": [
    "import os"
   ]
  },
  {
   "cell_type": "code",
   "execution_count": 41,
   "metadata": {},
   "outputs": [],
   "source": [
    "os.chdir('C:\\\\Users\\\\user\\\\Desktop\\\\Python\\\\_flask\\\\cwiczenia\\\\zomato')"
   ]
  },
  {
   "cell_type": "code",
   "execution_count": 48,
   "metadata": {},
   "outputs": [
    {
     "data": {
      "text/plain": [
       "['app.py',\n",
       " 'FLASK-End-to-end-Zomato-Restaurant-Price-Prediction-and-Deployment-master',\n",
       " 'FLASK-End-to-end-Zomato-Restaurant-Price-Prediction-and-Deployment-master.zip',\n",
       " 'Zomato_df.csv']"
      ]
     },
     "execution_count": 48,
     "metadata": {},
     "output_type": "execute_result"
    }
   ],
   "source": [
    "os.listdir()"
   ]
  },
  {
   "cell_type": "code",
   "execution_count": 59,
   "metadata": {},
   "outputs": [],
   "source": [
    "df = pd.read_csv('Zomato__df.txt')"
   ]
  },
  {
   "cell_type": "code",
   "execution_count": 66,
   "metadata": {
    "scrolled": true
   },
   "outputs": [],
   "source": [
    "x = pd.read_csv('Zomato__df.csv', usecols=[\n",
    "                 'online_order', 'book_table',  'votes', 'location', 'rest_type', 'cuisines', 'cost', 'menu_item'])"
   ]
  },
  {
   "cell_type": "code",
   "execution_count": 67,
   "metadata": {},
   "outputs": [
    {
     "ename": "ImportError",
     "evalue": "cannot import name 'OrderedDict' from 'pandas.compat' (C:\\Users\\user\\Anaconda3\\lib\\site-packages\\pandas\\compat\\__init__.py)",
     "output_type": "error",
     "traceback": [
      "\u001b[1;31m---------------------------------------------------------------------------\u001b[0m",
      "\u001b[1;31mImportError\u001b[0m                               Traceback (most recent call last)",
      "\u001b[1;32m~\\Anaconda3\\lib\\site-packages\\IPython\\core\\formatters.py\u001b[0m in \u001b[0;36m__call__\u001b[1;34m(self, obj)\u001b[0m\n\u001b[0;32m    343\u001b[0m     \u001b[1;32mdef\u001b[0m \u001b[0m__contains__\u001b[0m\u001b[1;33m(\u001b[0m\u001b[0mself\u001b[0m\u001b[1;33m,\u001b[0m \u001b[0mtyp\u001b[0m\u001b[1;33m)\u001b[0m\u001b[1;33m:\u001b[0m\u001b[1;33m\u001b[0m\u001b[1;33m\u001b[0m\u001b[0m\n\u001b[0;32m    344\u001b[0m         \u001b[1;34m\"\"\"map in to lookup_by_type\"\"\"\u001b[0m\u001b[1;33m\u001b[0m\u001b[1;33m\u001b[0m\u001b[0m\n\u001b[1;32m--> 345\u001b[1;33m         \u001b[1;32mtry\u001b[0m\u001b[1;33m:\u001b[0m\u001b[1;33m\u001b[0m\u001b[1;33m\u001b[0m\u001b[0m\n\u001b[0m\u001b[0;32m    346\u001b[0m             \u001b[0mself\u001b[0m\u001b[1;33m.\u001b[0m\u001b[0mlookup_by_type\u001b[0m\u001b[1;33m(\u001b[0m\u001b[0mtyp\u001b[0m\u001b[1;33m)\u001b[0m\u001b[1;33m\u001b[0m\u001b[1;33m\u001b[0m\u001b[0m\n\u001b[0;32m    347\u001b[0m         \u001b[1;32mexcept\u001b[0m \u001b[0mKeyError\u001b[0m\u001b[1;33m:\u001b[0m\u001b[1;33m\u001b[0m\u001b[1;33m\u001b[0m\u001b[0m\n",
      "\u001b[1;32m~\\Anaconda3\\lib\\site-packages\\pandas\\core\\frame.py\u001b[0m in \u001b[0;36m_repr_html_\u001b[1;34m(self)\u001b[0m\n\u001b[0;32m    685\u001b[0m                   \u001b[0msparsify\u001b[0m\u001b[1;33m=\u001b[0m\u001b[1;32mNone\u001b[0m\u001b[1;33m,\u001b[0m \u001b[0mindex_names\u001b[0m\u001b[1;33m=\u001b[0m\u001b[1;32mTrue\u001b[0m\u001b[1;33m,\u001b[0m \u001b[0mjustify\u001b[0m\u001b[1;33m=\u001b[0m\u001b[1;32mNone\u001b[0m\u001b[1;33m,\u001b[0m\u001b[1;33m\u001b[0m\u001b[1;33m\u001b[0m\u001b[0m\n\u001b[0;32m    686\u001b[0m                   \u001b[0mmax_rows\u001b[0m\u001b[1;33m=\u001b[0m\u001b[1;32mNone\u001b[0m\u001b[1;33m,\u001b[0m \u001b[0mmax_cols\u001b[0m\u001b[1;33m=\u001b[0m\u001b[1;32mNone\u001b[0m\u001b[1;33m,\u001b[0m \u001b[0mshow_dimensions\u001b[0m\u001b[1;33m=\u001b[0m\u001b[1;32mFalse\u001b[0m\u001b[1;33m,\u001b[0m\u001b[1;33m\u001b[0m\u001b[1;33m\u001b[0m\u001b[0m\n\u001b[1;32m--> 687\u001b[1;33m                   decimal='.', line_width=None):\n\u001b[0m\u001b[0;32m    688\u001b[0m         \"\"\"\n\u001b[0;32m    689\u001b[0m         \u001b[0mRender\u001b[0m \u001b[0ma\u001b[0m \u001b[0mDataFrame\u001b[0m \u001b[0mto\u001b[0m \u001b[0ma\u001b[0m \u001b[0mconsole\u001b[0m\u001b[1;33m-\u001b[0m\u001b[0mfriendly\u001b[0m \u001b[0mtabular\u001b[0m \u001b[0moutput\u001b[0m\u001b[1;33m.\u001b[0m\u001b[1;33m\u001b[0m\u001b[1;33m\u001b[0m\u001b[0m\n",
      "\u001b[1;32m~\\Anaconda3\\lib\\site-packages\\pandas\\io\\formats\\format.py\u001b[0m in \u001b[0;36mto_html\u001b[1;34m(self, classes, notebook, border)\u001b[0m\n\u001b[0;32m    835\u001b[0m         \u001b[0mnames\u001b[0m \u001b[1;33m=\u001b[0m \u001b[1;33m[\u001b[0m\u001b[1;33m]\u001b[0m\u001b[1;33m\u001b[0m\u001b[1;33m\u001b[0m\u001b[0m\n\u001b[0;32m    836\u001b[0m         \u001b[0mcolumns\u001b[0m \u001b[1;33m=\u001b[0m \u001b[0mself\u001b[0m\u001b[1;33m.\u001b[0m\u001b[0mframe\u001b[0m\u001b[1;33m.\u001b[0m\u001b[0mcolumns\u001b[0m\u001b[1;33m\u001b[0m\u001b[1;33m\u001b[0m\u001b[0m\n\u001b[1;32m--> 837\u001b[1;33m         \u001b[1;32mif\u001b[0m \u001b[0misinstance\u001b[0m\u001b[1;33m(\u001b[0m\u001b[0mcolumns\u001b[0m\u001b[1;33m,\u001b[0m \u001b[0mABCMultiIndex\u001b[0m\u001b[1;33m)\u001b[0m\u001b[1;33m:\u001b[0m\u001b[1;33m\u001b[0m\u001b[1;33m\u001b[0m\u001b[0m\n\u001b[0m\u001b[0;32m    838\u001b[0m             names.extend('' if name is None else name\n\u001b[0;32m    839\u001b[0m                          for name in columns.names)\n",
      "\u001b[1;32m~\\Anaconda3\\lib\\site-packages\\pandas\\io\\formats\\html.py\u001b[0m in \u001b[0;36m<module>\u001b[1;34m\u001b[0m\n\u001b[0;32m      8\u001b[0m \u001b[1;32mfrom\u001b[0m \u001b[0mtextwrap\u001b[0m \u001b[1;32mimport\u001b[0m \u001b[0mdedent\u001b[0m\u001b[1;33m\u001b[0m\u001b[1;33m\u001b[0m\u001b[0m\n\u001b[0;32m      9\u001b[0m \u001b[1;33m\u001b[0m\u001b[0m\n\u001b[1;32m---> 10\u001b[1;33m \u001b[1;32mfrom\u001b[0m \u001b[0mpandas\u001b[0m\u001b[1;33m.\u001b[0m\u001b[0mcompat\u001b[0m \u001b[1;32mimport\u001b[0m \u001b[0mOrderedDict\u001b[0m\u001b[1;33m,\u001b[0m \u001b[0mlzip\u001b[0m\u001b[1;33m,\u001b[0m \u001b[0mmap\u001b[0m\u001b[1;33m,\u001b[0m \u001b[0mrange\u001b[0m\u001b[1;33m,\u001b[0m \u001b[0mu\u001b[0m\u001b[1;33m,\u001b[0m \u001b[0munichr\u001b[0m\u001b[1;33m,\u001b[0m \u001b[0mzip\u001b[0m\u001b[1;33m\u001b[0m\u001b[1;33m\u001b[0m\u001b[0m\n\u001b[0m\u001b[0;32m     11\u001b[0m \u001b[1;33m\u001b[0m\u001b[0m\n\u001b[0;32m     12\u001b[0m \u001b[1;32mfrom\u001b[0m \u001b[0mpandas\u001b[0m\u001b[1;33m.\u001b[0m\u001b[0mcore\u001b[0m\u001b[1;33m.\u001b[0m\u001b[0mdtypes\u001b[0m\u001b[1;33m.\u001b[0m\u001b[0mgeneric\u001b[0m \u001b[1;32mimport\u001b[0m \u001b[0mABCMultiIndex\u001b[0m\u001b[1;33m\u001b[0m\u001b[1;33m\u001b[0m\u001b[0m\n",
      "\u001b[1;31mImportError\u001b[0m: cannot import name 'OrderedDict' from 'pandas.compat' (C:\\Users\\user\\Anaconda3\\lib\\site-packages\\pandas\\compat\\__init__.py)"
     ]
    },
    {
     "data": {
      "text/plain": [
       "       online_order  book_table  votes  location  rest_type  cuisines  cost  \\\n",
       "0                 1           1    775         1         20      1386   800   \n",
       "1                 1           0    787         1         20       594   800   \n",
       "2                 1           0    918         1         16       484   800   \n",
       "3                 0           0     88         1         62      1587   300   \n",
       "4                 0           0    166         4         20      1406   600   \n",
       "...             ...         ...    ...       ...        ...       ...   ...   \n",
       "23243             1           1    128        84          5      1318  1200   \n",
       "23244             0           0     77        84         38       878  2000   \n",
       "23245             0           0    161        84         21       539  1200   \n",
       "23246             0           0     81        84         21        80   800   \n",
       "23247             0           1    236        25          4       878  2500   \n",
       "\n",
       "       menu_item  \n",
       "0           5047  \n",
       "1           5047  \n",
       "2           5047  \n",
       "3           5047  \n",
       "4           5047  \n",
       "...          ...  \n",
       "23243       5047  \n",
       "23244       5047  \n",
       "23245       5047  \n",
       "23246       5047  \n",
       "23247       5047  \n",
       "\n",
       "[23248 rows x 8 columns]"
      ]
     },
     "execution_count": 67,
     "metadata": {},
     "output_type": "execute_result"
    }
   ],
   "source": [
    "x"
   ]
  },
  {
   "cell_type": "code",
   "execution_count": 82,
   "metadata": {},
   "outputs": [],
   "source": [
    "df = pd.read_csv('test.csv')"
   ]
  },
  {
   "cell_type": "code",
   "execution_count": null,
   "metadata": {
    "scrolled": true
   },
   "outputs": [],
   "source": [
    "df"
   ]
  },
  {
   "cell_type": "code",
   "execution_count": 84,
   "metadata": {},
   "outputs": [
    {
     "name": "stdout",
     "output_type": "stream",
     "text": [
      "Collecting package metadata (current_repodata.json): ...working... done\n",
      "Solving environment: ...working... \n",
      "The environment is inconsistent, please check the package plan carefully\n",
      "The following packages are causing the inconsistency:\n",
      "\n",
      "  - defaults/win-64::anaconda==2019.10=py37_0\n",
      "  - defaults/win-64::ipykernel==5.1.2=py37h39e3cac_0\n",
      "  - defaults/win-64::ipython==7.8.0=py37h39e3cac_0\n",
      "  - defaults/noarch::ipywidgets==7.5.1=py_0\n",
      "  - defaults/win-64::jupyter==1.0.0=py37_7\n",
      "  - defaults/noarch::jupyterlab==1.1.4=pyhf63ae98_0\n",
      "  - defaults/noarch::jupyterlab_server==1.0.6=py_0\n",
      "  - defaults/win-64::jupyter_console==6.0.0=py37_0\n",
      "  - defaults/win-64::notebook==6.0.1=py37_0\n",
      "  - defaults/noarch::qtconsole==4.5.5=py_0\n",
      "  - defaults/win-64::spyder==3.3.6=py37_0\n",
      "  - defaults/win-64::spyder-kernels==0.5.2=py37_0\n",
      "  - defaults/win-64::widgetsnbextension==3.5.1=py37_0\n",
      "  - defaults/win-64::_ipyw_jlab_nb_ext_conf==0.1.0=py37_0\n",
      "failed with initial frozen solve. Retrying with flexible solve.\n",
      "Solving environment: ...working... failed with repodata from current_repodata.json, will retry with next repodata source.\n",
      "Collecting package metadata (repodata.json): ...working... done\n",
      "Solving environment: ...working... \n",
      "The environment is inconsistent, please check the package plan carefully\n",
      "The following packages are causing the inconsistency:\n",
      "\n",
      "  - defaults/win-64::anaconda==2019.10=py37_0\n",
      "  - defaults/win-64::ipykernel==5.1.2=py37h39e3cac_0\n",
      "  - defaults/win-64::ipython==7.8.0=py37h39e3cac_0\n",
      "  - defaults/noarch::ipywidgets==7.5.1=py_0\n",
      "  - defaults/win-64::jupyter==1.0.0=py37_7\n",
      "  - defaults/noarch::jupyterlab==1.1.4=pyhf63ae98_0\n",
      "  - defaults/noarch::jupyterlab_server==1.0.6=py_0\n",
      "  - defaults/win-64::jupyter_console==6.0.0=py37_0\n",
      "  - defaults/win-64::notebook==6.0.1=py37_0\n",
      "  - defaults/noarch::qtconsole==4.5.5=py_0\n",
      "  - defaults/win-64::spyder==3.3.6=py37_0\n",
      "  - defaults/win-64::spyder-kernels==0.5.2=py37_0\n",
      "  - defaults/win-64::widgetsnbextension==3.5.1=py37_0\n",
      "  - defaults/win-64::_ipyw_jlab_nb_ext_conf==0.1.0=py37_0\n",
      "done\n",
      "\n",
      "## Package Plan ##\n",
      "\n",
      "  environment location: C:\\Users\\user\\Anaconda3\n",
      "\n",
      "  added / updated specs:\n",
      "    - nltk\n",
      "\n",
      "\n",
      "The following packages will be downloaded:\n",
      "\n",
      "    package                    |            build\n",
      "    ---------------------------|-----------------\n",
      "    _anaconda_depends-2019.10  |           py37_0           6 KB\n",
      "    anaconda-custom            |           py37_1           3 KB\n",
      "    astroid-2.4.2              |           py37_0         290 KB\n",
      "    ca-certificates-2020.10.14 |                0         122 KB\n",
      "    certifi-2020.11.8          |   py37haa95532_0         147 KB\n",
      "    conda-4.9.2                |   py37haa95532_0         2.9 MB\n",
      "    jedi-0.17.2                |   py37haa95532_1         941 KB\n",
      "    nltk-3.5                   |             py_0         976 KB\n",
      "    openssl-1.1.1h             |       he774522_0         4.8 MB\n",
      "    parso-0.7.0                |             py_0          72 KB\n",
      "    pycodestyle-2.6.0          |             py_0          43 KB\n",
      "    pyflakes-2.2.0             |             py_0          61 KB\n",
      "    pylint-2.6.0               |           py37_0         460 KB\n",
      "    regex-2020.11.13           |   py37h2bbff1b_0         322 KB\n",
      "    toml-0.10.1                |             py_0          20 KB\n",
      "    typed-ast-1.4.1            |   py37he774522_0         141 KB\n",
      "    ------------------------------------------------------------\n",
      "                                           Total:        11.2 MB\n",
      "\n",
      "The following NEW packages will be INSTALLED:\n",
      "\n",
      "  _anaconda_depends  pkgs/main/win-64::_anaconda_depends-2019.10-py37_0\n",
      "  astroid            pkgs/main/win-64::astroid-2.4.2-py37_0\n",
      "  jedi               pkgs/main/win-64::jedi-0.17.2-py37haa95532_1\n",
      "  parso              pkgs/main/noarch::parso-0.7.0-py_0\n",
      "  pycodestyle        pkgs/main/noarch::pycodestyle-2.6.0-py_0\n",
      "  pyflakes           pkgs/main/noarch::pyflakes-2.2.0-py_0\n",
      "  pylint             pkgs/main/win-64::pylint-2.6.0-py37_0\n",
      "  regex              pkgs/main/win-64::regex-2020.11.13-py37h2bbff1b_0\n",
      "  toml               pkgs/main/noarch::toml-0.10.1-py_0\n",
      "  typed-ast          pkgs/main/win-64::typed-ast-1.4.1-py37he774522_0\n",
      "\n",
      "The following packages will be UPDATED:\n",
      "\n",
      "  ca-certificates                               2019.8.28-0 --> 2020.10.14-0\n",
      "  certifi                                  2019.9.11-py37_0 --> 2020.11.8-py37haa95532_0\n",
      "  conda                                       4.7.12-py37_0 --> 4.9.2-py37haa95532_0\n",
      "  nltk                  pkgs/main/win-64::nltk-3.4.5-py37_0 --> pkgs/main/noarch::nltk-3.5-py_0\n",
      "  openssl                                 1.1.1d-he774522_2 --> 1.1.1h-he774522_0\n",
      "\n",
      "The following packages will be DOWNGRADED:\n",
      "\n",
      "  anaconda                                   2019.10-py37_0 --> custom-py37_1\n",
      "\n",
      "\n",
      "\n",
      "Downloading and Extracting Packages\n",
      "\n",
      "ca-certificates-2020 | 122 KB    |            |   0% \n",
      "ca-certificates-2020 | 122 KB    | #3         |  13% \n",
      "ca-certificates-2020 | 122 KB    | ########## | 100% \n",
      "\n",
      "toml-0.10.1          | 20 KB     |            |   0% \n",
      "toml-0.10.1          | 20 KB     | ########## | 100% \n",
      "\n",
      "nltk-3.5             | 976 KB    |            |   0% \n",
      "nltk-3.5             | 976 KB    | ##9        |  30% \n",
      "nltk-3.5             | 976 KB    | #########6 |  97% \n",
      "nltk-3.5             | 976 KB    | ########## | 100% \n",
      "\n",
      "astroid-2.4.2        | 290 KB    |            |   0% \n",
      "astroid-2.4.2        | 290 KB    | ########## | 100% \n",
      "\n",
      "anaconda-custom      | 3 KB      |            |   0% \n",
      "anaconda-custom      | 3 KB      | ########## | 100% \n",
      "\n",
      "certifi-2020.11.8    | 147 KB    |            |   0% \n",
      "certifi-2020.11.8    | 147 KB    | ########## | 100% \n",
      "\n",
      "pycodestyle-2.6.0    | 43 KB     |            |   0% \n",
      "pycodestyle-2.6.0    | 43 KB     | ########## | 100% \n",
      "\n",
      "openssl-1.1.1h       | 4.8 MB    |            |   0% \n",
      "openssl-1.1.1h       | 4.8 MB    | 8          |   8% \n",
      "openssl-1.1.1h       | 4.8 MB    | ##         |  21% \n",
      "openssl-1.1.1h       | 4.8 MB    | ###        |  31% \n",
      "openssl-1.1.1h       | 4.8 MB    | ####3      |  44% \n",
      "openssl-1.1.1h       | 4.8 MB    | #####5     |  56% \n",
      "openssl-1.1.1h       | 4.8 MB    | #######1   |  72% \n",
      "openssl-1.1.1h       | 4.8 MB    | ########7  |  88% \n",
      "openssl-1.1.1h       | 4.8 MB    | ########## | 100% \n",
      "\n",
      "pylint-2.6.0         | 460 KB    |            |   0% \n",
      "pylint-2.6.0         | 460 KB    | ########## | 100% \n",
      "\n",
      "typed-ast-1.4.1      | 141 KB    |            |   0% \n",
      "typed-ast-1.4.1      | 141 KB    | ########## | 100% \n",
      "\n",
      "jedi-0.17.2          | 941 KB    |            |   0% \n",
      "jedi-0.17.2          | 941 KB    | ####9      |  49% \n",
      "jedi-0.17.2          | 941 KB    | ########## | 100% \n",
      "\n",
      "regex-2020.11.13     | 322 KB    |            |   0% \n",
      "regex-2020.11.13     | 322 KB    | ########## | 100% \n",
      "\n",
      "parso-0.7.0          | 72 KB     |            |   0% \n",
      "parso-0.7.0          | 72 KB     | ########## | 100% \n",
      "\n",
      "_anaconda_depends-20 | 6 KB      |            |   0% \n",
      "_anaconda_depends-20 | 6 KB      | ########## | 100% \n",
      "\n",
      "conda-4.9.2          | 2.9 MB    |            |   0% \n",
      "conda-4.9.2          | 2.9 MB    | #5         |  15% \n",
      "conda-4.9.2          | 2.9 MB    | ###5       |  36% \n",
      "conda-4.9.2          | 2.9 MB    | ######2    |  62% \n",
      "conda-4.9.2          | 2.9 MB    | ########8  |  89% \n",
      "conda-4.9.2          | 2.9 MB    | ########## | 100% \n",
      "\n",
      "pyflakes-2.2.0       | 61 KB     |            |   0% \n",
      "pyflakes-2.2.0       | 61 KB     | ########## | 100% \n",
      "Preparing transaction: ...working... done\n",
      "Verifying transaction: ...working... done\n",
      "Executing transaction: ...working... done\n",
      "\n",
      "Note: you may need to restart the kernel to use updated packages.\n"
     ]
    }
   ],
   "source": [
    "conda install nltk"
   ]
  },
  {
   "cell_type": "code",
   "execution_count": null,
   "metadata": {},
   "outputs": [],
   "source": [
    "pip uninstall pandas"
   ]
  },
  {
   "cell_type": "code",
   "execution_count": null,
   "metadata": {},
   "outputs": [],
   "source": [
    "pip install --upgrade pandas==0.23.0"
   ]
  },
  {
   "cell_type": "code",
   "execution_count": null,
   "metadata": {},
   "outputs": [],
   "source": []
  }
 ],
 "metadata": {
  "kernelspec": {
   "display_name": "Python 3",
   "language": "python",
   "name": "python3"
  },
  "language_info": {
   "codemirror_mode": {
    "name": "ipython",
    "version": 3
   },
   "file_extension": ".py",
   "mimetype": "text/x-python",
   "name": "python",
   "nbconvert_exporter": "python",
   "pygments_lexer": "ipython3",
   "version": "3.7.4"
  }
 },
 "nbformat": 4,
 "nbformat_minor": 2
}
